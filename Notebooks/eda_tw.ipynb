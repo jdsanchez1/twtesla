{
 "cells": [
  {
   "cell_type": "code",
   "execution_count": 1,
   "metadata": {},
   "outputs": [],
   "source": [
    "import pandas as pd\n",
    "import matplotlib.pyplot as plt"
   ]
  },
  {
   "cell_type": "code",
   "execution_count": 4,
   "metadata": {},
   "outputs": [
    {
     "data": {
      "text/html": [
       "<div>\n",
       "<style scoped>\n",
       "    .dataframe tbody tr th:only-of-type {\n",
       "        vertical-align: middle;\n",
       "    }\n",
       "\n",
       "    .dataframe tbody tr th {\n",
       "        vertical-align: top;\n",
       "    }\n",
       "\n",
       "    .dataframe thead th {\n",
       "        text-align: right;\n",
       "    }\n",
       "</style>\n",
       "<table border=\"1\" class=\"dataframe\">\n",
       "  <thead>\n",
       "    <tr style=\"text-align: right;\">\n",
       "      <th></th>\n",
       "      <th>id</th>\n",
       "      <th>user_name</th>\n",
       "      <th>user_location</th>\n",
       "      <th>user_description</th>\n",
       "      <th>user_created</th>\n",
       "      <th>user_followers</th>\n",
       "      <th>user_friends</th>\n",
       "      <th>user_favourites</th>\n",
       "      <th>user_verified</th>\n",
       "      <th>date</th>\n",
       "      <th>text</th>\n",
       "      <th>hashtags</th>\n",
       "      <th>source</th>\n",
       "      <th>retweets</th>\n",
       "      <th>favorites</th>\n",
       "      <th>is_retweet</th>\n",
       "    </tr>\n",
       "  </thead>\n",
       "  <tbody>\n",
       "    <tr>\n",
       "      <th>0</th>\n",
       "      <td>1544379368478212100</td>\n",
       "      <td>Elon Musk</td>\n",
       "      <td>NaN</td>\n",
       "      <td>Mars &amp; Cars, Chips &amp; Dips</td>\n",
       "      <td>2009-06-02 20:12:29+00:00</td>\n",
       "      <td>101240855</td>\n",
       "      <td>115</td>\n",
       "      <td>13503</td>\n",
       "      <td>True</td>\n",
       "      <td>2022-07-05 17:55:09+00:00</td>\n",
       "      <td>@BillyM2k I find the gold toe sock – inevitabl...</td>\n",
       "      <td>NaN</td>\n",
       "      <td>Twitter for iPhone</td>\n",
       "      <td>335</td>\n",
       "      <td>6542</td>\n",
       "      <td>False</td>\n",
       "    </tr>\n",
       "    <tr>\n",
       "      <th>1</th>\n",
       "      <td>1544377493263720450</td>\n",
       "      <td>Elon Musk</td>\n",
       "      <td>NaN</td>\n",
       "      <td>Mars &amp; Cars, Chips &amp; Dips</td>\n",
       "      <td>2009-06-02 20:12:29+00:00</td>\n",
       "      <td>101240806</td>\n",
       "      <td>115</td>\n",
       "      <td>13503</td>\n",
       "      <td>True</td>\n",
       "      <td>2022-07-05 17:47:42+00:00</td>\n",
       "      <td>Sock Con, the conference for socks</td>\n",
       "      <td>NaN</td>\n",
       "      <td>Twitter for iPhone</td>\n",
       "      <td>1451</td>\n",
       "      <td>30753</td>\n",
       "      <td>False</td>\n",
       "    </tr>\n",
       "    <tr>\n",
       "      <th>2</th>\n",
       "      <td>1544377130590552064</td>\n",
       "      <td>Elon Musk</td>\n",
       "      <td>NaN</td>\n",
       "      <td>Mars &amp; Cars, Chips &amp; Dips</td>\n",
       "      <td>2009-06-02 20:12:29+00:00</td>\n",
       "      <td>101240806</td>\n",
       "      <td>115</td>\n",
       "      <td>13503</td>\n",
       "      <td>True</td>\n",
       "      <td>2022-07-05 17:46:15+00:00</td>\n",
       "      <td>Always something new for the magazine cover an...</td>\n",
       "      <td>NaN</td>\n",
       "      <td>Twitter for iPhone</td>\n",
       "      <td>1284</td>\n",
       "      <td>28610</td>\n",
       "      <td>False</td>\n",
       "    </tr>\n",
       "    <tr>\n",
       "      <th>3</th>\n",
       "      <td>1544375575724400645</td>\n",
       "      <td>Elon Musk</td>\n",
       "      <td>NaN</td>\n",
       "      <td>Mars &amp; Cars, Chips &amp; Dips</td>\n",
       "      <td>2009-06-02 20:12:29+00:00</td>\n",
       "      <td>101240806</td>\n",
       "      <td>115</td>\n",
       "      <td>13503</td>\n",
       "      <td>True</td>\n",
       "      <td>2022-07-05 17:40:05+00:00</td>\n",
       "      <td>@ExplainThisBob This guy gets it</td>\n",
       "      <td>NaN</td>\n",
       "      <td>Twitter for iPhone</td>\n",
       "      <td>131</td>\n",
       "      <td>3640</td>\n",
       "      <td>False</td>\n",
       "    </tr>\n",
       "    <tr>\n",
       "      <th>4</th>\n",
       "      <td>1544375148605853699</td>\n",
       "      <td>Elon Musk</td>\n",
       "      <td>NaN</td>\n",
       "      <td>Mars &amp; Cars, Chips &amp; Dips</td>\n",
       "      <td>2009-06-02 20:12:29+00:00</td>\n",
       "      <td>101240806</td>\n",
       "      <td>115</td>\n",
       "      <td>13503</td>\n",
       "      <td>True</td>\n",
       "      <td>2022-07-05 17:38:23+00:00</td>\n",
       "      <td>Sock tech is so advanced that you can get pret...</td>\n",
       "      <td>NaN</td>\n",
       "      <td>Twitter for iPhone</td>\n",
       "      <td>1191</td>\n",
       "      <td>23790</td>\n",
       "      <td>False</td>\n",
       "    </tr>\n",
       "  </tbody>\n",
       "</table>\n",
       "</div>"
      ],
      "text/plain": [
       "                    id  user_name user_location           user_description  \\\n",
       "0  1544379368478212100  Elon Musk           NaN  Mars & Cars, Chips & Dips   \n",
       "1  1544377493263720450  Elon Musk           NaN  Mars & Cars, Chips & Dips   \n",
       "2  1544377130590552064  Elon Musk           NaN  Mars & Cars, Chips & Dips   \n",
       "3  1544375575724400645  Elon Musk           NaN  Mars & Cars, Chips & Dips   \n",
       "4  1544375148605853699  Elon Musk           NaN  Mars & Cars, Chips & Dips   \n",
       "\n",
       "                user_created  user_followers  user_friends  user_favourites  \\\n",
       "0  2009-06-02 20:12:29+00:00       101240855           115            13503   \n",
       "1  2009-06-02 20:12:29+00:00       101240806           115            13503   \n",
       "2  2009-06-02 20:12:29+00:00       101240806           115            13503   \n",
       "3  2009-06-02 20:12:29+00:00       101240806           115            13503   \n",
       "4  2009-06-02 20:12:29+00:00       101240806           115            13503   \n",
       "\n",
       "   user_verified                       date  \\\n",
       "0           True  2022-07-05 17:55:09+00:00   \n",
       "1           True  2022-07-05 17:47:42+00:00   \n",
       "2           True  2022-07-05 17:46:15+00:00   \n",
       "3           True  2022-07-05 17:40:05+00:00   \n",
       "4           True  2022-07-05 17:38:23+00:00   \n",
       "\n",
       "                                                text hashtags  \\\n",
       "0  @BillyM2k I find the gold toe sock – inevitabl...      NaN   \n",
       "1                 Sock Con, the conference for socks      NaN   \n",
       "2  Always something new for the magazine cover an...      NaN   \n",
       "3                   @ExplainThisBob This guy gets it      NaN   \n",
       "4  Sock tech is so advanced that you can get pret...      NaN   \n",
       "\n",
       "               source  retweets  favorites  is_retweet  \n",
       "0  Twitter for iPhone       335       6542       False  \n",
       "1  Twitter for iPhone      1451      30753       False  \n",
       "2  Twitter for iPhone      1284      28610       False  \n",
       "3  Twitter for iPhone       131       3640       False  \n",
       "4  Twitter for iPhone      1191      23790       False  "
      ]
     },
     "execution_count": 4,
     "metadata": {},
     "output_type": "execute_result"
    }
   ],
   "source": [
    "raw_tweets = pd.read_csv('../datasets/elon_musk_tweets.csv')\n",
    "raw_tweets.head()\n"
   ]
  },
  {
   "cell_type": "code",
   "execution_count": 5,
   "metadata": {},
   "outputs": [
    {
     "name": "stdout",
     "output_type": "stream",
     "text": [
      "<class 'pandas.core.frame.DataFrame'>\n",
      "RangeIndex: 5904 entries, 0 to 5903\n",
      "Data columns (total 16 columns):\n",
      " #   Column            Non-Null Count  Dtype \n",
      "---  ------            --------------  ----- \n",
      " 0   id                5904 non-null   int64 \n",
      " 1   user_name         5904 non-null   object\n",
      " 2   user_location     1050 non-null   object\n",
      " 3   user_description  1422 non-null   object\n",
      " 4   user_created      5904 non-null   object\n",
      " 5   user_followers    5904 non-null   int64 \n",
      " 6   user_friends      5904 non-null   int64 \n",
      " 7   user_favourites   5904 non-null   int64 \n",
      " 8   user_verified     5904 non-null   bool  \n",
      " 9   date              5904 non-null   object\n",
      " 10  text              5904 non-null   object\n",
      " 11  hashtags          2 non-null      object\n",
      " 12  source            5904 non-null   object\n",
      " 13  retweets          5904 non-null   int64 \n",
      " 14  favorites         5904 non-null   int64 \n",
      " 15  is_retweet        5904 non-null   bool  \n",
      "dtypes: bool(2), int64(6), object(8)\n",
      "memory usage: 657.4+ KB\n"
     ]
    }
   ],
   "source": [
    "raw_tweets.info()"
   ]
  },
  {
   "cell_type": "markdown",
   "metadata": {},
   "source": [
    "Se observa que la columna de fecha requiere ser cambiado el formato a fecha"
   ]
  },
  {
   "cell_type": "code",
   "execution_count": 7,
   "metadata": {},
   "outputs": [
    {
     "data": {
      "text/plain": [
       "id                  0\n",
       "user_name           0\n",
       "user_location       0\n",
       "user_description    0\n",
       "user_created        0\n",
       "user_followers      0\n",
       "user_friends        0\n",
       "user_favourites     0\n",
       "user_verified       0\n",
       "date                0\n",
       "text                0\n",
       "hashtags            0\n",
       "source              0\n",
       "retweets            0\n",
       "favorites           0\n",
       "is_retweet          0\n",
       "dtype: object"
      ]
     },
     "execution_count": 7,
     "metadata": {},
     "output_type": "execute_result"
    }
   ],
   "source": [
    "raw_tweets[raw_tweets.duplicated()].sum()"
   ]
  },
  {
   "cell_type": "markdown",
   "metadata": {},
   "source": [
    "No se observan valores duplicados"
   ]
  },
  {
   "cell_type": "code",
   "execution_count": 8,
   "metadata": {},
   "outputs": [
    {
     "data": {
      "text/plain": [
       "id                     0\n",
       "user_name              0\n",
       "user_location       4854\n",
       "user_description    4482\n",
       "user_created           0\n",
       "user_followers         0\n",
       "user_friends           0\n",
       "user_favourites        0\n",
       "user_verified          0\n",
       "date                   0\n",
       "text                   0\n",
       "hashtags            5902\n",
       "source                 0\n",
       "retweets               0\n",
       "favorites              0\n",
       "is_retweet             0\n",
       "dtype: int64"
      ]
     },
     "execution_count": 8,
     "metadata": {},
     "output_type": "execute_result"
    }
   ],
   "source": [
    "raw_tweets.isna().sum()"
   ]
  },
  {
   "cell_type": "code",
   "execution_count": 9,
   "metadata": {},
   "outputs": [
    {
     "data": {
      "text/plain": [
       "array([nan, 'Boring', 'Twitter HQ', 'Twitter NY', 'Hell',\n",
       "       'A Shortfall of Gravitas', 'Trøllheim'], dtype=object)"
      ]
     },
     "execution_count": 9,
     "metadata": {},
     "output_type": "execute_result"
    }
   ],
   "source": [
    "raw_tweets['user_location'].unique()"
   ]
  },
  {
   "cell_type": "code",
   "execution_count": 13,
   "metadata": {},
   "outputs": [
    {
     "name": "stdout",
     "output_type": "stream",
     "text": [
      "                       id  user_name user_location           user_description  \\\n",
      "0     1544379368478212100  Elon Musk           NaN  Mars & Cars, Chips & Dips   \n",
      "1     1544377493263720450  Elon Musk           NaN  Mars & Cars, Chips & Dips   \n",
      "2     1544377130590552064  Elon Musk           NaN  Mars & Cars, Chips & Dips   \n",
      "3     1544375575724400645  Elon Musk           NaN  Mars & Cars, Chips & Dips   \n",
      "4     1544375148605853699  Elon Musk           NaN  Mars & Cars, Chips & Dips   \n",
      "...                   ...        ...           ...                        ...   \n",
      "5899  1665143503108677634  Elon Musk           NaN                        NaN   \n",
      "5900  1665139144425631747  Elon Musk           NaN                        NaN   \n",
      "5901  1665137204782419968  Elon Musk           NaN                        NaN   \n",
      "5902  1665131126900285445  Elon Musk           NaN                        NaN   \n",
      "5903  1665121551652474880  Elon Musk           NaN                        NaN   \n",
      "\n",
      "                   user_created  user_followers  user_friends  \\\n",
      "0     2009-06-02 20:12:29+00:00       101240855           115   \n",
      "1     2009-06-02 20:12:29+00:00       101240806           115   \n",
      "2     2009-06-02 20:12:29+00:00       101240806           115   \n",
      "3     2009-06-02 20:12:29+00:00       101240806           115   \n",
      "4     2009-06-02 20:12:29+00:00       101240806           115   \n",
      "...                         ...             ...           ...   \n",
      "5899  2009-06-02 20:12:29+00:00       143325985           330   \n",
      "5900  2009-06-02 20:12:29+00:00       143325985           330   \n",
      "5901  2009-06-02 20:12:29+00:00       143325985           330   \n",
      "5902  2009-06-02 20:12:29+00:00       143325985           330   \n",
      "5903  2009-06-02 20:12:29+00:00       143325985           330   \n",
      "\n",
      "      user_favourites  user_verified                       date  \\\n",
      "0               13503           True  2022-07-05 17:55:09+00:00   \n",
      "1               13503           True  2022-07-05 17:47:42+00:00   \n",
      "2               13503           True  2022-07-05 17:46:15+00:00   \n",
      "3               13503           True  2022-07-05 17:40:05+00:00   \n",
      "4               13503           True  2022-07-05 17:38:23+00:00   \n",
      "...               ...            ...                        ...   \n",
      "5899            25655          False  2023-06-03 23:48:42+00:00   \n",
      "5900            25655          False  2023-06-03 23:31:23+00:00   \n",
      "5901            25655          False  2023-06-03 23:23:41+00:00   \n",
      "5902            25655          False  2023-06-03 22:59:31+00:00   \n",
      "5903            25655          False  2023-06-03 22:21:29+00:00   \n",
      "\n",
      "                                                   text hashtags  \\\n",
      "0     @BillyM2k I find the gold toe sock – inevitabl...      NaN   \n",
      "1                    Sock Con, the conference for socks      NaN   \n",
      "2     Always something new for the magazine cover an...      NaN   \n",
      "3                      @ExplainThisBob This guy gets it      NaN   \n",
      "4     Sock tech is so advanced that you can get pret...      NaN   \n",
      "...                                                 ...      ...   \n",
      "5899                     @JonErlichman He’s not wrong …      NaN   \n",
      "5900  @alifarhat79 Guys, I think I maybe took too mu...      NaN   \n",
      "5901                                      @sriramk Cool      NaN   \n",
      "5902               @cb_doge Time to complete the circle      NaN   \n",
      "5903         @Jason Late stage civilization complacency      NaN   \n",
      "\n",
      "                  source  retweets  favorites  is_retweet  \n",
      "0     Twitter for iPhone       335       6542       False  \n",
      "1     Twitter for iPhone      1451      30753       False  \n",
      "2     Twitter for iPhone      1284      28610       False  \n",
      "3     Twitter for iPhone       131       3640       False  \n",
      "4     Twitter for iPhone      1191      23790       False  \n",
      "...                  ...       ...        ...         ...  \n",
      "5899  Twitter for iPhone       361       4791       False  \n",
      "5900  Twitter for iPhone      1609      61964       False  \n",
      "5901  Twitter for iPhone        46        879       False  \n",
      "5902  Twitter for iPhone       898      12467       False  \n",
      "5903  Twitter for iPhone      1997      38113       False  \n",
      "\n",
      "[4854 rows x 16 columns]\n"
     ]
    }
   ],
   "source": [
    "missing_locations = raw_tweets[raw_tweets['user_location'].isna()]\n",
    "print(missing_locations)"
   ]
  },
  {
   "cell_type": "code",
   "execution_count": 14,
   "metadata": {},
   "outputs": [
    {
     "name": "stdout",
     "output_type": "stream",
     "text": [
      "                       id  user_name user_location user_description  \\\n",
      "435   1567139578166890506  Elon Musk           NaN              NaN   \n",
      "436   1566950472015028225  Elon Musk           NaN              NaN   \n",
      "437   1566937887735676928  Elon Musk           NaN              NaN   \n",
      "438   1566936909980614662  Elon Musk           NaN              NaN   \n",
      "439   1566853171720470528  Elon Musk           NaN              NaN   \n",
      "...                   ...        ...           ...              ...   \n",
      "5899  1665143503108677634  Elon Musk           NaN              NaN   \n",
      "5900  1665139144425631747  Elon Musk           NaN              NaN   \n",
      "5901  1665137204782419968  Elon Musk           NaN              NaN   \n",
      "5902  1665131126900285445  Elon Musk           NaN              NaN   \n",
      "5903  1665121551652474880  Elon Musk           NaN              NaN   \n",
      "\n",
      "                   user_created  user_followers  user_friends  \\\n",
      "435   2009-06-02 20:12:29+00:00       105623449           122   \n",
      "436   2009-06-02 20:12:29+00:00       105623449           122   \n",
      "437   2009-06-02 20:12:29+00:00       105623449           122   \n",
      "438   2009-06-02 20:12:29+00:00       105623449           122   \n",
      "439   2009-06-02 20:12:29+00:00       105623449           122   \n",
      "...                         ...             ...           ...   \n",
      "5899  2009-06-02 20:12:29+00:00       143325985           330   \n",
      "5900  2009-06-02 20:12:29+00:00       143325985           330   \n",
      "5901  2009-06-02 20:12:29+00:00       143325985           330   \n",
      "5902  2009-06-02 20:12:29+00:00       143325985           330   \n",
      "5903  2009-06-02 20:12:29+00:00       143325985           330   \n",
      "\n",
      "      user_favourites  user_verified                       date  \\\n",
      "435             14108           True  2022-09-06 13:16:06+00:00   \n",
      "436             14108           True  2022-09-06 00:44:39+00:00   \n",
      "437             14108           True  2022-09-05 23:54:39+00:00   \n",
      "438             14108           True  2022-09-05 23:50:46+00:00   \n",
      "439             14108           True  2022-09-05 18:18:01+00:00   \n",
      "...               ...            ...                        ...   \n",
      "5899            25655          False  2023-06-03 23:48:42+00:00   \n",
      "5900            25655          False  2023-06-03 23:31:23+00:00   \n",
      "5901            25655          False  2023-06-03 23:23:41+00:00   \n",
      "5902            25655          False  2023-06-03 22:59:31+00:00   \n",
      "5903            25655          False  2023-06-03 22:21:29+00:00   \n",
      "\n",
      "                                                   text hashtags  \\\n",
      "435   @joshcarlosjosh Peter Jackson did excellent wo...      NaN   \n",
      "436   @SawyerMerritt @Tesla For now, supply is too l...      NaN   \n",
      "437                      @Teslarati @JohnnaCrider1 Cool      NaN   \n",
      "438   Order a Tesla Powerwall battery for blackout p...      NaN   \n",
      "439   And 90% of my comments are bots 🤖 https://t.co...      NaN   \n",
      "...                                                 ...      ...   \n",
      "5899                     @JonErlichman He’s not wrong …      NaN   \n",
      "5900  @alifarhat79 Guys, I think I maybe took too mu...      NaN   \n",
      "5901                                      @sriramk Cool      NaN   \n",
      "5902               @cb_doge Time to complete the circle      NaN   \n",
      "5903         @Jason Late stage civilization complacency      NaN   \n",
      "\n",
      "                  source  retweets  favorites  is_retweet  \n",
      "435   Twitter for iPhone       125       2400       False  \n",
      "436   Twitter for iPhone       363       5649       False  \n",
      "437   Twitter for iPhone       384       9349       False  \n",
      "438   Twitter for iPhone      4482      46120       False  \n",
      "439   Twitter for iPhone      4260      79763       False  \n",
      "...                  ...       ...        ...         ...  \n",
      "5899  Twitter for iPhone       361       4791       False  \n",
      "5900  Twitter for iPhone      1609      61964       False  \n",
      "5901  Twitter for iPhone        46        879       False  \n",
      "5902  Twitter for iPhone       898      12467       False  \n",
      "5903  Twitter for iPhone      1997      38113       False  \n",
      "\n",
      "[4482 rows x 16 columns]\n"
     ]
    }
   ],
   "source": [
    "missing_description = raw_tweets[raw_tweets['user_description'].isna()]\n",
    "print(missing_description)"
   ]
  },
  {
   "cell_type": "code",
   "execution_count": 15,
   "metadata": {},
   "outputs": [
    {
     "data": {
      "text/plain": [
       "array([nan, \"['FreeSpeech']\", \"['deletefacebook']\"], dtype=object)"
      ]
     },
     "execution_count": 15,
     "metadata": {},
     "output_type": "execute_result"
    }
   ],
   "source": [
    "raw_tweets['hashtags'].unique()"
   ]
  },
  {
   "cell_type": "markdown",
   "metadata": {},
   "source": [
    "Se identifican valores vacios en la descripción, ubicación y hashtags. No se prevé un impacto en el análisis por estas columnas, no se llenarán los vacios"
   ]
  },
  {
   "cell_type": "code",
   "execution_count": 16,
   "metadata": {},
   "outputs": [
    {
     "name": "stdout",
     "output_type": "stream",
     "text": [
      "Earliest date: 2022-07-05 13:46:20+00:00\n",
      "Latest date: 2023-06-13 01:49:01+00:00\n"
     ]
    }
   ],
   "source": [
    "print(\"Earliest date:\",raw_tweets['date'].min())\n",
    "print(\"Latest date:\",raw_tweets['date'].max())"
   ]
  }
 ],
 "metadata": {
  "kernelspec": {
   "display_name": "base",
   "language": "python",
   "name": "python3"
  },
  "language_info": {
   "codemirror_mode": {
    "name": "ipython",
    "version": 3
   },
   "file_extension": ".py",
   "mimetype": "text/x-python",
   "name": "python",
   "nbconvert_exporter": "python",
   "pygments_lexer": "ipython3",
   "version": "3.12.7"
  }
 },
 "nbformat": 4,
 "nbformat_minor": 2
}
